{
  "nbformat": 4,
  "nbformat_minor": 0,
  "metadata": {
    "colab": {
      "provenance": [],
      "include_colab_link": true
    },
    "kernelspec": {
      "name": "python3",
      "display_name": "Python 3"
    },
    "language_info": {
      "name": "python"
    }
  },
  "cells": [
    {
      "cell_type": "markdown",
      "metadata": {
        "id": "view-in-github",
        "colab_type": "text"
      },
      "source": [
        "<a href=\"https://colab.research.google.com/github/Rishu-khurana/Data-Mining/blob/main/DM_Quiz_2_opd20036.ipynb\" target=\"_parent\"><img src=\"https://colab.research.google.com/assets/colab-badge.svg\" alt=\"Open In Colab\"/></a>"
      ]
    },
    {
      "cell_type": "markdown",
      "metadata": {
        "id": "BWTcnNSDY2iP"
      },
      "source": [
        "# Quiz-2"
      ]
    },
    {
      "cell_type": "markdown",
      "metadata": {
        "id": "6w8cZ081Y7B_"
      },
      "source": [
        "## Problem-1\n",
        "### Write a code to calculate confusion matrix"
      ]
    },
    {
      "cell_type": "markdown",
      "metadata": {
        "id": "ffGaTxTAFYDO"
      },
      "source": [
        "A confusion matrix is a matrix (table) that can be used to measure the performance of an machine learning algorithm, usually a supervised learning one. Each row of the confusion matrix represents the instances of an actual class and each column represents the instances of a predicted class."
      ]
    },
    {
      "cell_type": "code",
      "metadata": {
        "id": "0H-CJNbWNHpM"
      },
      "source": [
        "def con_mat(actual, predicted):\n",
        "    fp = 0\n",
        "    fn = 0\n",
        "\n",
        "    tp = 0\n",
        "    tn = 0\n",
        "\n",
        "    for actual, predicted in zip(actual, predicted):\n",
        "        if predicted == actual: # t?\n",
        "            if predicted == 1: # tp\n",
        "                tp = tp+ 1\n",
        "            else: # tn\n",
        "                tn = tn + 1\n",
        "        else: # f?\n",
        "            if predicted == 1: # fp\n",
        "                fp = fp +1\n",
        "            else: # fn\n",
        "                fn = fn+ 1\n",
        "\n",
        "    mat = [\n",
        "        [tn, fp],\n",
        "        [fn, tp]\n",
        "    ]\n",
        "\n",
        "\n",
        "    return mat"
      ],
      "execution_count": null,
      "outputs": []
    },
    {
      "cell_type": "code",
      "metadata": {
        "id": "MvVagZyrNVHw"
      },
      "source": [
        "actual = (1,1,1,1,0,0,0)\n",
        "predicted = (1,0,1,0,1,0,0)"
      ],
      "execution_count": null,
      "outputs": []
    },
    {
      "cell_type": "code",
      "metadata": {
        "colab": {
          "base_uri": "https://localhost:8080/"
        },
        "id": "Qdex_GU5OFmI",
        "outputId": "5fe8dd8c-da39-4837-d499-101c6881f687"
      },
      "source": [
        "mat = con_mat(actual, predicted)\n",
        "mat"
      ],
      "execution_count": null,
      "outputs": [
        {
          "output_type": "execute_result",
          "data": {
            "text/plain": [
              "[[2, 1], [2, 2]]"
            ]
          },
          "metadata": {
            "tags": []
          },
          "execution_count": 114
        }
      ]
    },
    {
      "cell_type": "markdown",
      "metadata": {
        "id": "CrHueagBJJam"
      },
      "source": [
        "Q2.a)\n",
        "\n",
        "compare these definitions with scikit learn library functions"
      ]
    },
    {
      "cell_type": "code",
      "metadata": {
        "colab": {
          "base_uri": "https://localhost:8080/"
        },
        "id": "R0wozv5OGPIE",
        "outputId": "1b4ec26b-7177-4d55-99b3-228095c74419"
      },
      "source": [
        "#Q1: confusion matrix\n",
        "from sklearn.metrics import confusion_matrix\n",
        "actual = (1,1,1,1,0,0,0)\n",
        "predicted = (1,0,1,0,1,0,0)\n",
        "\n",
        "print(confusion_matrix(actual, predicted))"
      ],
      "execution_count": null,
      "outputs": [
        {
          "output_type": "stream",
          "text": [
            "[[2 1]\n",
            " [2 2]]\n"
          ],
          "name": "stdout"
        }
      ]
    },
    {
      "cell_type": "markdown",
      "metadata": {
        "id": "b_QPhU8BZYQx"
      },
      "source": [
        "## Problem-2\n",
        "### Write a code to calculate performance matrics"
      ]
    },
    {
      "cell_type": "code",
      "metadata": {
        "id": "keaOUldIZzZf"
      },
      "source": [
        "y_actual = (1,1,1,1,0,0,1,0,1)\n",
        "y_pred   = (1,0,1,0,1,0,0,1,1)"
      ],
      "execution_count": null,
      "outputs": []
    },
    {
      "cell_type": "code",
      "metadata": {
        "id": "ykMze_1DZv8K"
      },
      "source": [
        "def perf_measure(y_actual, y_pred):\n",
        "    TP = 0\n",
        "    FP = 0\n",
        "    TN = 0\n",
        "    FN = 0\n",
        "\n",
        "    for i in range(len(y_pred)):\n",
        "        if y_actual[i]==y_pred[i]==1:\n",
        "           TP += 1\n",
        "        if y_pred[i]==1 and y_actual[i]!=y_pred[i]:\n",
        "           FP += 1\n",
        "        if y_actual[i]==y_pred[i]==0:\n",
        "           TN += 1\n",
        "        if y_pred[i]==0 and y_actual[i]!=y_pred[i]:\n",
        "           FN += 1\n",
        "           return(TP, FP, TN, FN)"
      ],
      "execution_count": null,
      "outputs": []
    },
    {
      "cell_type": "code",
      "metadata": {
        "colab": {
          "base_uri": "https://localhost:8080/"
        },
        "id": "O5n7KA-YaBkd",
        "outputId": "db8da1f0-1e7a-433b-8c08-a86de538727e"
      },
      "source": [
        "TP, FP, TN, FN"
      ],
      "execution_count": null,
      "outputs": [
        {
          "output_type": "execute_result",
          "data": {
            "text/plain": [
              "(2, 1, 1, 1)"
            ]
          },
          "metadata": {
            "tags": []
          },
          "execution_count": 90
        }
      ]
    },
    {
      "cell_type": "code",
      "metadata": {
        "id": "MY2K9SqHaFh0"
      },
      "source": [
        " import math\n",
        "\n",
        " acc=((TP+TN)/(TP+TN+FP+FN))\n",
        " prec=(TP/(TP+FP))\n",
        " rec= (TP/(TP+FN))\n",
        " f1=(2*prec*rec)/(prec+rec)\n",
        " op=acc\n",
        " ept=((TP+FP)/(TP+FP+TN+FN))*((TP+FN)/(TP+FP+TN+FN))\n",
        " epf=((TN+FN)/(TP+FP+TN+FN))*((TN+FP)/(TP+FP+TN+FN))\n",
        " ep=ept+epf\n",
        " Kappa=1-((1-op)/(1-ep))\n",
        " MCC=((TP*TN)-(FP*FN))/math.sqrt((TP+FP)*(TP+FN)*(TN+FP)*(TN+FN))\n",
        " jacc= TP/(TP+FP+FN)"
      ],
      "execution_count": null,
      "outputs": []
    },
    {
      "cell_type": "code",
      "metadata": {
        "colab": {
          "base_uri": "https://localhost:8080/"
        },
        "id": "9p41YJl7VxRo",
        "outputId": "a4e53102-d949-4487-8b7b-f80aaf481141"
      },
      "source": [
        "acc, prec, rec, f1, Kappa, jacc, MCC"
      ],
      "execution_count": null,
      "outputs": [
        {
          "output_type": "execute_result",
          "data": {
            "text/plain": [
              "(0.2857142857142857,\n",
              " 0.25,\n",
              " 0.3333333333333333,\n",
              " 0.28571428571428575,\n",
              " -0.3999999999999997,\n",
              " 0.16666666666666666,\n",
              " -0.4166666666666667)"
            ]
          },
          "metadata": {
            "tags": []
          },
          "execution_count": 250
        }
      ]
    },
    {
      "cell_type": "markdown",
      "metadata": {
        "id": "TI2iAMg7G_I9"
      },
      "source": [
        "Q2.b)\n",
        "\n",
        "compare these definitions with scikit learn library functions"
      ]
    },
    {
      "cell_type": "code",
      "metadata": {
        "colab": {
          "base_uri": "https://localhost:8080/"
        },
        "id": "1515qbAXG-tY",
        "outputId": "19c4cfcd-f4cf-49c6-ffd1-ed1a8c2fbe5b"
      },
      "source": [
        "#Q2: Performance matrics: Accuracy, Precision, Recall, F1-score, Cohan's kappa, mcc, Jaccard score\n",
        "from sklearn import metrics\n",
        "\n",
        "print(\"Accuracy:\",metrics.accuracy_score(actual,predicted))\n",
        "print(\"Precision:\", metrics.precision_score(actual,predicted))\n",
        "print(\"f1-Score:\",metrics.f1_score(actual,predicted))\n",
        "print(\"Cohan's kappa:\",metrics.cohen_kappa_score(actual,predicted))\n",
        "print(\"mcc:\", metrics.matthews_corrcoef(actual,predicted))\n",
        "print(\"Jaccard score:\",metrics.jaccard_score(actual,predicted))"
      ],
      "execution_count": null,
      "outputs": [
        {
          "output_type": "stream",
          "text": [
            "Accuracy: 0.2857142857142857\n",
            "Precision: 0.25\n",
            "f1-Score: 0.28571428571428575\n",
            "Cohan's kappa: -0.40000000000000013\n",
            "mcc: -0.4166666666666667\n",
            "Jaccard score: 0.16666666666666666\n"
          ],
          "name": "stdout"
        }
      ]
    },
    {
      "cell_type": "markdown",
      "metadata": {
        "id": "hshxo3rsajTX"
      },
      "source": [
        "## Problem-3\n",
        "### Write a code to draw ROC and AUC"
      ]
    },
    {
      "cell_type": "markdown",
      "metadata": {
        "id": "HcN-ls8MSNht"
      },
      "source": [
        "Area Under ROC Curve (or ROC AUC for short) is a performance metric for binary classification problems.\n",
        "\n",
        "The AUC represents a model’s ability to discriminate between positive and negative classes. An area of 1.0 represents a model that made all predictions perfectly. An area of 0.5 represents a model as good as random.\n",
        "\n",
        "A ROC Curve is a plot of the true positive rate and the false positive rate for a given set of probability predictions at different thresholds used to map the probabilities to class labels. The area under the curve is then the approximate integral under the ROC Curve."
      ]
    },
    {
      "cell_type": "code",
      "metadata": {
        "id": "uBOUdcODNa6j"
      },
      "source": [
        "def per_curve(Actual, Predicted_prob): # here types belongs on of (ROC, AUC)\n",
        "    from scipy.io import loadmat\n",
        "    import matplotlib.pyplot as plt\n",
        "    from numpy import trapz\n",
        "\n",
        "    def confusion_metrics(labels,predictions,threshold):\n",
        "        true_positive=0;\n",
        "        false_positive=0;\n",
        "        true_negative=0;\n",
        "        false_negative=0;\n",
        "        for i in range(len(labels)):\n",
        "            if labels[i]==1:\n",
        "                if predictions[i]>=threshold:\n",
        "                    true_positive+=1;\n",
        "                else:\n",
        "                    false_negative+=1;\n",
        "            else:\n",
        "                if predictions[i]>=threshold:\n",
        "                    false_positive+=1;\n",
        "                else:\n",
        "                    true_negative+=1;\n",
        "        tpf=true_positive/(true_positive + false_negative);\n",
        "        fpf=false_positive/(false_positive + true_negative);\n",
        "        return tpf,fpf;\n",
        "\n",
        "    def results(labels,predictions):\n",
        "        TPF=[];\n",
        "        FPF=[];\n",
        "        THRESHOLD=[];\n",
        "        i=0;\n",
        "        #increemental step size for threshold\n",
        "        dx_step=0.0002;\n",
        "        while(i<=1):\n",
        "            threshold=i;\n",
        "            tpf,fpf=confusion_metrics(labels,predictions,threshold);\n",
        "            TPF.append(tpf);\n",
        "            FPF.append(fpf);\n",
        "            THRESHOLD.append(threshold);\n",
        "            i+=dx_step;\n",
        "\n",
        "        plt.plot(FPF,TPF);\n",
        "        plt.plot(THRESHOLD,THRESHOLD,'--')\n",
        "        plt.xlabel(\"False Positive fraction (FPF)--->\")\n",
        "        plt.ylabel(\"True Positive fraction (TPF)--->\")\n",
        "        plt.title(\"ROC Curve\")\n",
        "        plt.show()\n",
        "        area = trapz(TPF, dx=dx_step)\n",
        "        #print(\"AUC:Area under the ROC curve is\", area)\n",
        "        return (print(\"AUC:Area under the ROC curve is\", area))\n",
        "        actual=loadmat('actual.mat');\n",
        "        predicted=loadmat('predicted.mat');\n",
        "\n",
        "        labels=actual['target'][:,0];\n",
        "        predictions=predicted['neuralOut'][:,0];\n",
        "        return (results(labels,predictions))"
      ],
      "execution_count": null,
      "outputs": []
    },
    {
      "cell_type": "code",
      "metadata": {
        "id": "oRcVvZCGNa6k"
      },
      "source": [
        "Actual = (0,1,1,0,1,0,0,0,1,0)\n",
        "Predicted_prob = (0.95,0.65,0.48,0.68,0.75,0.66,0.69,0.59, 0.82, 0.76)\n",
        "scores = per_curve(Actual,Predicted_prob )\n"
      ],
      "execution_count": null,
      "outputs": []
    },
    {
      "cell_type": "code",
      "metadata": {
        "id": "WjaXNp3R63Bb",
        "colab": {
          "base_uri": "https://localhost:8080/"
        },
        "outputId": "60227d6e-787f-4327-9434-ec6b64fe121a"
      },
      "source": [
        "Actual = (0,1,1,0,1,0,0,0,1,0)\n",
        "Predicted_prob = (0.95,0.65,0.48,0.68,0.75,0.66,0.69,0.59, 0.82, 0.76)\n",
        "print(\"ROC:\",metrics.roc_curve(Actual ,Predicted_prob))"
      ],
      "execution_count": null,
      "outputs": [
        {
          "output_type": "stream",
          "text": [
            "ROC: (array([0.        , 0.16666667, 0.16666667, 0.33333333, 0.33333333,\n",
            "       0.83333333, 0.83333333, 1.        , 1.        ]), array([0.  , 0.  , 0.25, 0.25, 0.5 , 0.5 , 0.75, 0.75, 1.  ]), array([1.95, 0.95, 0.82, 0.76, 0.75, 0.66, 0.65, 0.59, 0.48]))\n"
          ],
          "name": "stdout"
        }
      ]
    },
    {
      "cell_type": "markdown",
      "metadata": {
        "id": "hUGbfe5JJPfy"
      },
      "source": [
        "Q2.c)\n",
        "\n",
        "compare these definitions with scikit learn library functions"
      ]
    },
    {
      "cell_type": "code",
      "metadata": {
        "id": "I3hYBdYb6TV5",
        "colab": {
          "base_uri": "https://localhost:8080/"
        },
        "outputId": "109d9682-8656-4198-aab3-a784d5277c23"
      },
      "source": [
        "from sklearn.metrics import roc_curve, auc\n",
        "false_positive_rate, true_positive_rate, thresholds = roc_curve(Actual, Predicted_prob)\n",
        "roc_auc = auc(false_positive_rate, true_positive_rate)\n",
        "roc_auc"
      ],
      "execution_count": null,
      "outputs": [
        {
          "output_type": "execute_result",
          "data": {
            "text/plain": [
              "0.4166666666666667"
            ]
          },
          "metadata": {
            "tags": []
          },
          "execution_count": 100
        }
      ]
    },
    {
      "cell_type": "code",
      "metadata": {
        "id": "qd3sDFKb6rYW",
        "colab": {
          "base_uri": "https://localhost:8080/",
          "height": 638
        },
        "outputId": "dda13d06-cb8f-4897-d542-05bbee2e453e"
      },
      "source": [
        "import matplotlib.pyplot as plt\n",
        "plt.figure(figsize=(10,10))\n",
        "plt.title('Receiver Operating Characteristic')\n",
        "plt.plot(false_positive_rate,true_positive_rate, color='red',label = 'AUC = %0.2f' % roc_auc)\n",
        "plt.legend(loc = 'lower right')\n",
        "plt.plot([0, 1], [0, 1],linestyle='--')\n",
        "plt.axis('tight')\n",
        "plt.ylabel('True Positive Rate')\n",
        "plt.xlabel('False Positive Rate')"
      ],
      "execution_count": null,
      "outputs": [
        {
          "output_type": "execute_result",
          "data": {
            "text/plain": [
              "Text(0.5, 0, 'False Positive Rate')"
            ]
          },
          "metadata": {
            "tags": []
          },
          "execution_count": 101
        },
        {
          "output_type": "display_data",
          "data": {
            "image/png": "[encoded data removed]",
            "text/plain": [
              "<Figure size 720x720 with 1 Axes>"
            ]
          },
          "metadata": {
            "tags": [],
            "needs_background": "light"
          }
        }
      ]
    },
    {
      "cell_type": "markdown",
      "metadata": {
        "id": "8a9VOM2nN1zP"
      },
      "source": [
        "Problem-4\n",
        "\n",
        "Write a code to calculate average silhouette score"
      ]
    },
    {
      "cell_type": "markdown",
      "metadata": {
        "id": "BXADA55qTwv8"
      },
      "source": [
        "Silhouette Coefficient or silhouette score is a metric used to calculate the goodness of a clustering technique. Its value ranges from -1 to 1.\n",
        "\n",
        "1: Means clusters are well apart from each other and clearly distinguished."
      ]
    },
    {
      "cell_type": "code",
      "metadata": {
        "id": "dtMai-FA2G-g"
      },
      "source": [
        "import sys"
      ],
      "execution_count": null,
      "outputs": []
    },
    {
      "cell_type": "code",
      "metadata": {
        "id": "MFW8YCUl2G-i"
      },
      "source": [
        "import joblib\n",
        "sys.modules['sklearn.externals.joblib'] = joblib"
      ],
      "execution_count": null,
      "outputs": []
    },
    {
      "cell_type": "code",
      "metadata": {
        "id": "OBe_U8-XcCT2"
      },
      "source": [
        "from itertools import combinations\n",
        "import numpy as np\n",
        "from sklearn.utils import check_random_state\n",
        "from sklearn.metrics.pairwise import distance_metrics\n",
        "from sklearn.metrics.pairwise import pairwise_distances\n",
        "from sklearn.externals.joblib import Parallel, delayed\n",
        "\n",
        "def sil_score(mat, labels):\n",
        "    X=mat\n",
        "    def silhouette_score_slow(X, labels, metric='euclidean', sample_size=None,\n",
        "                          random_state=None, **kwds):\n",
        "\n",
        "        if sample_size is not None:\n",
        "            random_state = check_random_state(random_state)\n",
        "            indices = random_state.permutation(X.shape[0])[:sample_size]\n",
        "            if metric == \"precomputed\":\n",
        "                raise ValueError('Distance matrix cannot be precomputed')\n",
        "            else:\n",
        "                X, labels = X[indices], labels[indices]\n",
        "        return np.mean(silhouette_samples_slow(X, labels, metric=metric, **kwds))\n",
        "\n",
        "\n",
        "    def silhouette_samples_slow(X, labels, metric='euclidean', **kwds):\n",
        "        metric = distance_metrics()[metric]\n",
        "        n = labels.shape[0]\n",
        "        A = np.array([_intra_cluster_distance_slow(X, labels, metric, i)\n",
        "                      for i in range(n)])\n",
        "        B = np.array([_nearest_cluster_distance_slow(X, labels, metric, i)\n",
        "                      for i in range(n)])\n",
        "        sil_samples = (B - A) / np.maximum(A, B)\n",
        "        # nan values are for clusters of size 1, and should be 0\n",
        "        return np.nan_to_num(sil_samples)\n",
        "\n",
        "\n",
        "    def _intra_cluster_distance_slow(X, labels, metric, i):\n",
        "        indices = np.where(labels == labels[i])[0]\n",
        "        if len(indices) == 0:\n",
        "            return 0.\n",
        "        a = np.mean([metric(X[i], X[j]) for j in indices if not i == j])\n",
        "        return a\n",
        "\n",
        "\n",
        "    def _nearest_cluster_distance_slow(X, labels, metric, i):\n",
        "        label = labels[i]\n",
        "        b = np.min(\n",
        "                [np.mean(\n",
        "                    [metric(X[i], X[j]) for j in np.where(labels == cur_label)[0]]\n",
        "                ) for cur_label in set(labels) if not cur_label == label])\n",
        "        return b\n",
        "\n",
        "\n",
        "    def silhouette_score_block(X, labels, metric='euclidean', sample_size=None,\n",
        "                               random_state=None, n_jobs=1, **kwds):\n",
        "\n",
        "        if sample_size is not None:\n",
        "            random_state = check_random_state(random_state)\n",
        "            indices = random_state.permutation(X.shape[0])[:sample_size]\n",
        "            if metric == \"precomputed\":\n",
        "                raise ValueError('Distance matrix cannot be precomputed')\n",
        "            else:\n",
        "                X, labels = X[indices], labels[indices]\n",
        "        return np.mean(silhouette_samples_block(\n",
        "            X, labels, metric=metric, n_jobs=n_jobs, **kwds))\n",
        "\n",
        "\n",
        "    def silhouette_samples_block(X, labels, metric='euclidean', n_jobs=1, **kwds):\n",
        "        A = _intra_cluster_distances_block(X, labels, metric, n_jobs=n_jobs,\n",
        "                                           **kwds)\n",
        "        B = _nearest_cluster_distance_block(X, labels, metric, n_jobs=n_jobs,\n",
        "                                            **kwds)\n",
        "        sil_samples = (B - A) / np.maximum(A, B)\n",
        "        # nan values are for clusters of size 1, and should be 0\n",
        "        return np.nan_to_num(sil_samples)\n",
        "\n",
        "\n",
        "    def _intra_cluster_distances_block_(subX, metric, **kwds):\n",
        "        distances = pairwise_distances(subX, metric=metric, **kwds)\n",
        "        return distances.sum(axis=1) / (distances.shape[0] - 1)\n",
        "\n",
        "\n",
        "    def _intra_cluster_distances_block(X, labels, metric, n_jobs=1, **kwds):\n",
        "        intra_dist = np.zeros(labels.size, dtype=float)\n",
        "        values = Parallel(n_jobs=n_jobs)(\n",
        "                delayed(_intra_cluster_distances_block_)\n",
        "                    (X[np.where(labels == label)[0]], metric, **kwds)\n",
        "                    for label in np.unique(labels))\n",
        "        for label, values_ in zip(np.unique(labels), values):\n",
        "            intra_dist[np.where(labels == label)[0]] = values_\n",
        "        return intra_dist\n",
        "\n",
        "\n",
        "    def _nearest_cluster_distance_block_(subX_a, subX_b, metric, **kwds):\n",
        "        dist = pairwise_distances(subX_a, subX_b, metric=metric, **kwds)\n",
        "        dist_a = dist.mean(axis=1)\n",
        "        dist_b = dist.mean(axis=0)\n",
        "        return dist_a, dist_b\n",
        "\n",
        "\n",
        "    def _nearest_cluster_distance_block(X, labels, metric, n_jobs=1, **kwds):\n",
        "        inter_dist = np.empty(labels.size, dtype=float)\n",
        "        inter_dist.fill(np.inf)\n",
        "        # Compute cluster distance between pairs of clusters\n",
        "        unique_labels = np.unique(labels)\n",
        "\n",
        "        values = Parallel(n_jobs=n_jobs)(\n",
        "                delayed(_nearest_cluster_distance_block_)(\n",
        "                    X[np.where(labels == label_a)[0]],\n",
        "                    X[np.where(labels == label_b)[0]],\n",
        "                    metric, **kwds)\n",
        "                    for label_a, label_b in combinations(unique_labels, 2))\n",
        "\n",
        "        for (label_a, label_b), (values_a, values_b) in \\\n",
        "                zip(combinations(unique_labels, 2), values):\n",
        "\n",
        "                indices_a = np.where(labels == label_a)[0]\n",
        "                inter_dist[indices_a] = np.minimum(values_a, inter_dist[indices_a])\n",
        "                del indices_a\n",
        "                indices_b = np.where(labels == label_b)[0]\n",
        "                inter_dist[indices_b] = np.minimum(values_b, inter_dist[indices_b])\n",
        "                del indices_b\n",
        "        return inter_dist\n",
        "\n",
        "    if __name__ == '__main__':\n",
        "        import time\n",
        "\n",
        "        from sklearn.metrics.cluster.unsupervised import silhouette_score\n",
        "\n",
        "        np.random.seed(0)\n",
        "        X = np.random.random((10000, 100))\n",
        "        y = np.repeat(np.arange(100), 100)\n",
        "        t0 = time.time()\n",
        "        s = silhouette_score(X, y)\n",
        "        t = time.time() - t0\n",
        "        #print 'Scikit silhouette (%fs): %f' % (t, s)\n",
        "        t0 = time.time()\n",
        "        s = silhouette_score_block(X, y)\n",
        "        t = time.time() - t0\n",
        "        #print 'Block silhouette (%fs): %f' % (t, s)\n",
        "        t0 = time.time()\n",
        "        s = silhouette_score_block(X, y, n_jobs=2)\n",
        "        t = time.time() - t0\n",
        "        #print 'Block silhouette parallel (%fs): %f' % (t, s)\n",
        "        return silhouette_score_block(X, y, n_jobs=2)"
      ],
      "execution_count": null,
      "outputs": []
    },
    {
      "cell_type": "code",
      "metadata": {
        "id": "SdAQUJm52G-r"
      },
      "source": [
        "labels=[0,1,0,1,1,1,2,2,2]\n",
        "mat=[[1,2,11],[1,3,21],[1,5,30],[1,22,10],[1,60,110],[1,50,120],[1,6,40],[1,8,52],[1,20,50]]\n"
      ],
      "execution_count": null,
      "outputs": []
    },
    {
      "cell_type": "code",
      "metadata": {
        "id": "V0oS-TkwcarY",
        "colab": {
          "base_uri": "https://localhost:8080/"
        },
        "outputId": "484b672d-4b4c-4047-9734-db32f54da6ad"
      },
      "source": [
        "score = sil_score(mat, labels)\n",
        "print(score)"
      ],
      "execution_count": null,
      "outputs": [
        {
          "output_type": "stream",
          "text": [
            "-0.013991789624238525\n"
          ],
          "name": "stdout"
        }
      ]
    },
    {
      "cell_type": "markdown",
      "metadata": {
        "id": "t_jblhSmJUyH"
      },
      "source": [
        "Q2.d)\n",
        "\n",
        "compare these definitions with scikit learn library functions"
      ]
    },
    {
      "cell_type": "code",
      "metadata": {
        "colab": {
          "base_uri": "https://localhost:8080/"
        },
        "id": "_6FoUuy0HYFf",
        "outputId": "5a7b1c2d-5628-463f-d695-a446e70cff5b"
      },
      "source": [
        "#Q4: Calculate average silhouette score\n",
        "labels=[0,1,0,1,1,1,2,2,2]\n",
        "mat=[[1,2,11],[1,3,21],[1,5,30],[1,22,10],[1,60,110],[1,50,120],[1,6,40],[1,8,52],[1,20,50]]\n",
        "c=metrics.silhouette_samples(mat,labels)\n",
        "d=metrics.silhouette_score(mat,labels)\n",
        "print(c)\n",
        "print(d)"
      ],
      "execution_count": null,
      "outputs": [
        {
          "output_type": "stream",
          "text": [
            "[ 0.49231257 -0.87816136 -0.00784445 -0.71369814  0.04869439  0.04100664\n",
            "  0.25313171  0.61767859  0.56778986]\n",
            "0.04676775736125422\n"
          ],
          "name": "stdout"
        }
      ]
    },
    {
      "cell_type": "markdown",
      "metadata": {
        "id": "oqThh_Vrchqf"
      },
      "source": [
        "## Problem-5\n",
        "### Write a code to implement k-fold validation"
      ]
    },
    {
      "cell_type": "markdown",
      "metadata": {
        "id": "2QlxzC0zZLzE"
      },
      "source": [
        "Cross-validation is a resampling procedure used to evaluate machine learning models on a limited data sample. The procedure has a single parameter called k that refers to the number of groups that a given data sample is to be split into."
      ]
    },
    {
      "cell_type": "code",
      "metadata": {
        "id": "Pp-zDfJn3asR"
      },
      "source": [
        "from random import seed\n",
        "from random import randrange"
      ],
      "execution_count": null,
      "outputs": []
    },
    {
      "cell_type": "code",
      "metadata": {
        "colab": {
          "base_uri": "https://localhost:8080/"
        },
        "id": "ZpNo7MF03ZG0",
        "outputId": "cb2e758c-ac89-4a94-e9a5-c09a8380755e"
      },
      "source": [
        "\n",
        "def k_fold(data, k):\n",
        "    dataset_split = list()\n",
        "    dataset_copy = list(data)\n",
        "    fold_size = int(len(data) /k)\n",
        "    for i in range(k):\n",
        "        fold = list()\n",
        "        while len(fold) < fold_size:\n",
        "            index = randrange(len(dataset_copy))\n",
        "            fold.append(dataset_copy.pop(index))\n",
        "        dataset_split.append(fold)\n",
        "    return dataset_split\n",
        "#test cross validation split\n",
        "seed(1)\n",
        "dataset = [[1,0], [2,3], [4,1], [3,0], [6,0], [7,1], [5,2], [6,8], [4,0], [10,1]]\n",
        "folds = k_fold(dataset, 4)\n",
        "print(folds)"
      ],
      "execution_count": null,
      "outputs": [
        {
          "output_type": "stream",
          "text": [
            "[[[4, 1], [2, 3]], [[5, 2], [1, 0]], [[6, 8], [4, 0]], [[10, 1], [7, 1]]]\n"
          ],
          "name": "stdout"
        }
      ]
    },
    {
      "cell_type": "code",
      "metadata": {
        "colab": {
          "base_uri": "https://localhost:8080/"
        },
        "id": "eLZMfyOd32Do",
        "outputId": "cc8a3b02-7a99-43c0-8b7f-26f04d982685"
      },
      "source": [
        "labels=[0,1,0,1,1,1,2,2,2,1]\n",
        "data=[1,2,3,4,5,6,7,8,9,10]\n",
        "scores = k_fold(data ,10)\n",
        "scores"
      ],
      "execution_count": null,
      "outputs": [
        {
          "output_type": "execute_result",
          "data": {
            "text/plain": [
              "[[7], [4], [2], [6], [1], [9], [10], [8], [3], [5]]"
            ]
          },
          "metadata": {
            "tags": []
          },
          "execution_count": 110
        }
      ]
    },
    {
      "cell_type": "markdown",
      "metadata": {
        "id": "03_YktQSJaFN"
      },
      "source": [
        "Q2.e)\n",
        "\n",
        "compare these definitions with scikit learn library functions"
      ]
    },
    {
      "cell_type": "code",
      "metadata": {
        "colab": {
          "base_uri": "https://localhost:8080/"
        },
        "id": "spDonBDaJZl8",
        "outputId": "9bb01e87-5067-4122-996d-a0cd6ecf7457"
      },
      "source": [
        "import numpy as np\n",
        "from sklearn.model_selection import KFold\n",
        "dataset = [[1,0], [2,3], [4,1], [3,0], [6,0], [7,1], [5,2], [6,8], [4,0], [10,1]]\n",
        "\n",
        "kf = KFold(n_splits=4)\n",
        "kf.get_n_splits(dataset)\n",
        "print(kf)\n",
        "KFold(n_splits=4, random_state=None, shuffle=False)\n",
        "for train_index, test_index in kf.split(dataset):\n",
        " print(\"TRAIN:\", train_index, \"TEST:\", test_index)"
      ],
      "execution_count": null,
      "outputs": [
        {
          "output_type": "stream",
          "text": [
            "KFold(n_splits=4, random_state=None, shuffle=False)\n",
            "TRAIN: [3 4 5 6 7 8 9] TEST: [0 1 2]\n",
            "TRAIN: [0 1 2 6 7 8 9] TEST: [3 4 5]\n",
            "TRAIN: [0 1 2 3 4 5 8 9] TEST: [6 7]\n",
            "TRAIN: [0 1 2 3 4 5 6 7] TEST: [8 9]\n"
          ],
          "name": "stdout"
        }
      ]
    }
  ]
}